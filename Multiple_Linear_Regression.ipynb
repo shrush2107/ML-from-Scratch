{
 "cells": [
  {
   "cell_type": "code",
   "execution_count": 1,
   "metadata": {},
   "outputs": [],
   "source": [
    "import numpy as np\n",
    "import matplotlib.pyplot as plt\n",
    "import copy, math\n",
    "np.set_printoptions(precision=2)"
   ]
  },
  {
   "cell_type": "code",
   "execution_count": 2,
   "metadata": {},
   "outputs": [],
   "source": [
    "data_X = [[1.24e+03, 3.00e+00, 1.00e+00, 6.40e+01],\n",
    "       [1.95e+03, 3.00e+00, 2.00e+00, 1.70e+01],\n",
    "       [1.72e+03, 3.00e+00, 2.00e+00, 4.20e+01],\n",
    "       [1.96e+03, 3.00e+00, 2.00e+00, 1.50e+01],\n",
    "       [1.31e+03, 2.00e+00, 1.00e+00, 1.40e+01],\n",
    "       [8.64e+02, 2.00e+00, 1.00e+00, 6.60e+01],\n",
    "       [1.84e+03, 3.00e+00, 1.00e+00, 1.70e+01],\n",
    "       [1.03e+03, 3.00e+00, 1.00e+00, 4.30e+01],\n",
    "       [3.19e+03, 4.00e+00, 2.00e+00, 8.70e+01],\n",
    "       [7.88e+02, 2.00e+00, 1.00e+00, 8.00e+01],\n",
    "       [1.20e+03, 2.00e+00, 2.00e+00, 1.70e+01],\n",
    "       [1.56e+03, 2.00e+00, 1.00e+00, 1.80e+01],\n",
    "       [1.43e+03, 3.00e+00, 1.00e+00, 2.00e+01],\n",
    "       [1.22e+03, 2.00e+00, 1.00e+00, 1.50e+01],\n",
    "       [1.09e+03, 2.00e+00, 1.00e+00, 6.40e+01],\n",
    "       [8.48e+02, 1.00e+00, 1.00e+00, 1.70e+01],\n",
    "       [1.68e+03, 3.00e+00, 2.00e+00, 2.30e+01],\n",
    "       [1.77e+03, 3.00e+00, 2.00e+00, 1.80e+01],\n",
    "       [1.04e+03, 3.00e+00, 1.00e+00, 4.40e+01],\n",
    "       [1.65e+03, 2.00e+00, 1.00e+00, 2.10e+01],\n",
    "       [1.09e+03, 2.00e+00, 1.00e+00, 3.50e+01],\n",
    "       [1.32e+03, 3.00e+00, 1.00e+00, 1.40e+01],\n",
    "       [1.59e+03, 0.00e+00, 1.00e+00, 2.00e+01],\n",
    "       [9.72e+02, 2.00e+00, 1.00e+00, 7.30e+01],\n",
    "       [1.10e+03, 3.00e+00, 1.00e+00, 3.70e+01],\n",
    "       [1.00e+03, 2.00e+00, 1.00e+00, 5.10e+01],\n",
    "       [9.04e+02, 3.00e+00, 1.00e+00, 5.50e+01],\n",
    "       [1.69e+03, 3.00e+00, 1.00e+00, 1.30e+01],\n",
    "       [1.07e+03, 2.00e+00, 1.00e+00, 1.00e+02],\n",
    "       [1.42e+03, 3.00e+00, 2.00e+00, 1.90e+01],\n",
    "       [1.16e+03, 3.00e+00, 1.00e+00, 5.20e+01],\n",
    "       [1.94e+03, 3.00e+00, 2.00e+00, 1.20e+01],\n",
    "       [1.22e+03, 2.00e+00, 2.00e+00, 7.40e+01],\n",
    "       [2.48e+03, 4.00e+00, 2.00e+00, 1.60e+01],\n",
    "       [1.20e+03, 2.00e+00, 1.00e+00, 1.80e+01],\n",
    "       [1.84e+03, 3.00e+00, 2.00e+00, 2.00e+01],\n",
    "       [1.85e+03, 3.00e+00, 2.00e+00, 5.70e+01],\n",
    "       [1.66e+03, 3.00e+00, 2.00e+00, 1.90e+01],\n",
    "       [1.10e+03, 2.00e+00, 2.00e+00, 9.70e+01],\n",
    "       [1.78e+03, 3.00e+00, 2.00e+00, 2.80e+01],\n",
    "       [2.03e+03, 4.00e+00, 2.00e+00, 4.50e+01],\n",
    "       [1.78e+03, 4.00e+00, 2.00e+00, 1.07e+02],\n",
    "       [1.07e+03, 2.00e+00, 1.00e+00, 1.00e+02],\n",
    "       [1.55e+03, 3.00e+00, 1.00e+00, 1.60e+01],\n",
    "       [1.95e+03, 3.00e+00, 2.00e+00, 1.60e+01],\n",
    "       [1.22e+03, 2.00e+00, 2.00e+00, 1.20e+01],\n",
    "       [1.62e+03, 3.00e+00, 1.00e+00, 1.60e+01],\n",
    "       [8.16e+02, 2.00e+00, 1.00e+00, 5.80e+01],\n",
    "       [1.35e+03, 3.00e+00, 1.00e+00, 2.10e+01],\n",
    "       [1.57e+03, 3.00e+00, 1.00e+00, 1.40e+01],\n",
    "       [1.49e+03, 3.00e+00, 1.00e+00, 5.70e+01],\n",
    "       [1.51e+03, 2.00e+00, 1.00e+00, 1.60e+01],\n",
    "       [1.10e+03, 3.00e+00, 1.00e+00, 2.70e+01],\n",
    "       [1.76e+03, 3.00e+00, 2.00e+00, 2.40e+01],\n",
    "       [1.21e+03, 2.00e+00, 1.00e+00, 1.40e+01],\n",
    "       [1.47e+03, 3.00e+00, 2.00e+00, 2.40e+01],\n",
    "       [1.77e+03, 3.00e+00, 2.00e+00, 8.40e+01],\n",
    "       [1.65e+03, 3.00e+00, 1.00e+00, 1.90e+01],\n",
    "       [1.03e+03, 3.00e+00, 1.00e+00, 6.00e+01],\n",
    "       [1.12e+03, 2.00e+00, 2.00e+00, 1.60e+01],\n",
    "       [1.15e+03, 3.00e+00, 1.00e+00, 6.20e+01],\n",
    "       [8.16e+02, 2.00e+00, 1.00e+00, 3.90e+01],\n",
    "       [1.04e+03, 3.00e+00, 1.00e+00, 2.50e+01],\n",
    "       [1.39e+03, 3.00e+00, 1.00e+00, 6.40e+01],\n",
    "       [1.60e+03, 3.00e+00, 2.00e+00, 2.90e+01],\n",
    "       [1.22e+03, 3.00e+00, 1.00e+00, 6.30e+01],\n",
    "       [1.07e+03, 2.00e+00, 1.00e+00, 1.00e+02],\n",
    "       [2.60e+03, 4.00e+00, 2.00e+00, 2.20e+01],\n",
    "       [1.43e+03, 3.00e+00, 1.00e+00, 5.90e+01],\n",
    "       [2.09e+03, 3.00e+00, 2.00e+00, 2.60e+01],\n",
    "       [1.79e+03, 4.00e+00, 2.00e+00, 4.90e+01],\n",
    "       [1.48e+03, 3.00e+00, 2.00e+00, 1.60e+01],\n",
    "       [1.04e+03, 3.00e+00, 1.00e+00, 2.50e+01],\n",
    "       [1.43e+03, 3.00e+00, 1.00e+00, 2.20e+01],\n",
    "       [1.16e+03, 3.00e+00, 1.00e+00, 5.30e+01],\n",
    "       [1.55e+03, 3.00e+00, 2.00e+00, 1.20e+01],\n",
    "       [1.98e+03, 3.00e+00, 2.00e+00, 2.20e+01],\n",
    "       [1.06e+03, 3.00e+00, 1.00e+00, 5.30e+01],\n",
    "       [1.18e+03, 2.00e+00, 1.00e+00, 9.90e+01],\n",
    "       [1.36e+03, 2.00e+00, 1.00e+00, 1.70e+01],\n",
    "       [9.60e+02, 3.00e+00, 1.00e+00, 5.10e+01],\n",
    "       [1.46e+03, 3.00e+00, 2.00e+00, 1.60e+01],\n",
    "       [1.45e+03, 3.00e+00, 2.00e+00, 2.50e+01],\n",
    "       [1.21e+03, 2.00e+00, 1.00e+00, 1.50e+01],\n",
    "       [1.55e+03, 3.00e+00, 2.00e+00, 1.60e+01],\n",
    "       [8.82e+02, 3.00e+00, 1.00e+00, 4.90e+01],\n",
    "       [2.03e+03, 4.00e+00, 2.00e+00, 4.50e+01],\n",
    "       [1.04e+03, 3.00e+00, 1.00e+00, 6.20e+01],\n",
    "       [1.62e+03, 3.00e+00, 1.00e+00, 1.60e+01],\n",
    "       [8.03e+02, 2.00e+00, 1.00e+00, 8.00e+01],\n",
    "       [1.43e+03, 3.00e+00, 2.00e+00, 2.10e+01],\n",
    "       [1.66e+03, 3.00e+00, 1.00e+00, 6.10e+01],\n",
    "       [1.54e+03, 3.00e+00, 1.00e+00, 1.60e+01],\n",
    "       [9.48e+02, 3.00e+00, 1.00e+00, 5.30e+01],\n",
    "       [1.22e+03, 2.00e+00, 2.00e+00, 1.20e+01],\n",
    "       [1.43e+03, 2.00e+00, 1.00e+00, 4.30e+01],\n",
    "       [1.66e+03, 3.00e+00, 2.00e+00, 1.90e+01],\n",
    "       [1.21e+03, 3.00e+00, 1.00e+00, 2.00e+01],\n",
    "       [1.05e+03, 2.00e+00, 1.00e+00, 6.50e+01]]\n",
    "\n",
    "X_train = np.array(data_X)\n"
   ]
  },
  {
   "cell_type": "code",
   "execution_count": 3,
   "metadata": {},
   "outputs": [],
   "source": [
    "data_y=[300.  , 509.8 , 394.  , 540.  , 415.  , 230.  , 560.  , 294.  ,\n",
    "       718.2 , 200.  , 302.  , 468.  , 374.2 , 388.  , 282.  , 311.8 ,\n",
    "       401.  , 449.8 , 301.  , 502.  , 340.  , 400.28, 572.  , 264.  ,\n",
    "       304.  , 298.  , 219.8 , 490.7 , 216.96, 368.2 , 280.  , 526.87,\n",
    "       237.  , 562.43, 369.8 , 460.  , 374.  , 390.  , 158.  , 426.  ,\n",
    "       390.  , 277.77, 216.96, 425.8 , 504.  , 329.  , 464.  , 220.  ,\n",
    "       358.  , 478.  , 334.  , 426.98, 290.  , 463.  , 390.8 , 354.  ,\n",
    "       350.  , 460.  , 237.  , 288.3 , 282.  , 249.  , 304.  , 332.  ,\n",
    "       351.8 , 310.  , 216.96, 666.34, 330.  , 480.  , 330.3 , 348.  ,\n",
    "       304.  , 384.  , 316.  , 430.4 , 450.  , 284.  , 275.  , 414.  ,\n",
    "       258.  , 378.  , 350.  , 412.  , 373.  , 225.  , 390.  , 267.4 ,\n",
    "       464.  , 174.  , 340.  , 430.  , 440.  , 216.  , 329.  , 388.  ,\n",
    "       390.  , 356.  , 257.8 ]"
   ]
  },
  {
   "cell_type": "code",
   "execution_count": 4,
   "metadata": {},
   "outputs": [],
   "source": [
    "y_train = np.array(data_y)"
   ]
  },
  {
   "cell_type": "code",
   "execution_count": 5,
   "metadata": {},
   "outputs": [
    {
     "name": "stdout",
     "output_type": "stream",
     "text": [
      "X Shape: (99, 4), X Type:<class 'numpy.ndarray'>)\n",
      "[[1.24e+03 3.00e+00 1.00e+00 6.40e+01]\n",
      " [1.95e+03 3.00e+00 2.00e+00 1.70e+01]\n",
      " [1.72e+03 3.00e+00 2.00e+00 4.20e+01]\n",
      " [1.96e+03 3.00e+00 2.00e+00 1.50e+01]\n",
      " [1.31e+03 2.00e+00 1.00e+00 1.40e+01]\n",
      " [8.64e+02 2.00e+00 1.00e+00 6.60e+01]\n",
      " [1.84e+03 3.00e+00 1.00e+00 1.70e+01]\n",
      " [1.03e+03 3.00e+00 1.00e+00 4.30e+01]\n",
      " [3.19e+03 4.00e+00 2.00e+00 8.70e+01]\n",
      " [7.88e+02 2.00e+00 1.00e+00 8.00e+01]\n",
      " [1.20e+03 2.00e+00 2.00e+00 1.70e+01]\n",
      " [1.56e+03 2.00e+00 1.00e+00 1.80e+01]\n",
      " [1.43e+03 3.00e+00 1.00e+00 2.00e+01]\n",
      " [1.22e+03 2.00e+00 1.00e+00 1.50e+01]\n",
      " [1.09e+03 2.00e+00 1.00e+00 6.40e+01]\n",
      " [8.48e+02 1.00e+00 1.00e+00 1.70e+01]\n",
      " [1.68e+03 3.00e+00 2.00e+00 2.30e+01]\n",
      " [1.77e+03 3.00e+00 2.00e+00 1.80e+01]\n",
      " [1.04e+03 3.00e+00 1.00e+00 4.40e+01]\n",
      " [1.65e+03 2.00e+00 1.00e+00 2.10e+01]\n",
      " [1.09e+03 2.00e+00 1.00e+00 3.50e+01]\n",
      " [1.32e+03 3.00e+00 1.00e+00 1.40e+01]\n",
      " [1.59e+03 0.00e+00 1.00e+00 2.00e+01]\n",
      " [9.72e+02 2.00e+00 1.00e+00 7.30e+01]\n",
      " [1.10e+03 3.00e+00 1.00e+00 3.70e+01]\n",
      " [1.00e+03 2.00e+00 1.00e+00 5.10e+01]\n",
      " [9.04e+02 3.00e+00 1.00e+00 5.50e+01]\n",
      " [1.69e+03 3.00e+00 1.00e+00 1.30e+01]\n",
      " [1.07e+03 2.00e+00 1.00e+00 1.00e+02]\n",
      " [1.42e+03 3.00e+00 2.00e+00 1.90e+01]\n",
      " [1.16e+03 3.00e+00 1.00e+00 5.20e+01]\n",
      " [1.94e+03 3.00e+00 2.00e+00 1.20e+01]\n",
      " [1.22e+03 2.00e+00 2.00e+00 7.40e+01]\n",
      " [2.48e+03 4.00e+00 2.00e+00 1.60e+01]\n",
      " [1.20e+03 2.00e+00 1.00e+00 1.80e+01]\n",
      " [1.84e+03 3.00e+00 2.00e+00 2.00e+01]\n",
      " [1.85e+03 3.00e+00 2.00e+00 5.70e+01]\n",
      " [1.66e+03 3.00e+00 2.00e+00 1.90e+01]\n",
      " [1.10e+03 2.00e+00 2.00e+00 9.70e+01]\n",
      " [1.78e+03 3.00e+00 2.00e+00 2.80e+01]\n",
      " [2.03e+03 4.00e+00 2.00e+00 4.50e+01]\n",
      " [1.78e+03 4.00e+00 2.00e+00 1.07e+02]\n",
      " [1.07e+03 2.00e+00 1.00e+00 1.00e+02]\n",
      " [1.55e+03 3.00e+00 1.00e+00 1.60e+01]\n",
      " [1.95e+03 3.00e+00 2.00e+00 1.60e+01]\n",
      " [1.22e+03 2.00e+00 2.00e+00 1.20e+01]\n",
      " [1.62e+03 3.00e+00 1.00e+00 1.60e+01]\n",
      " [8.16e+02 2.00e+00 1.00e+00 5.80e+01]\n",
      " [1.35e+03 3.00e+00 1.00e+00 2.10e+01]\n",
      " [1.57e+03 3.00e+00 1.00e+00 1.40e+01]\n",
      " [1.49e+03 3.00e+00 1.00e+00 5.70e+01]\n",
      " [1.51e+03 2.00e+00 1.00e+00 1.60e+01]\n",
      " [1.10e+03 3.00e+00 1.00e+00 2.70e+01]\n",
      " [1.76e+03 3.00e+00 2.00e+00 2.40e+01]\n",
      " [1.21e+03 2.00e+00 1.00e+00 1.40e+01]\n",
      " [1.47e+03 3.00e+00 2.00e+00 2.40e+01]\n",
      " [1.77e+03 3.00e+00 2.00e+00 8.40e+01]\n",
      " [1.65e+03 3.00e+00 1.00e+00 1.90e+01]\n",
      " [1.03e+03 3.00e+00 1.00e+00 6.00e+01]\n",
      " [1.12e+03 2.00e+00 2.00e+00 1.60e+01]\n",
      " [1.15e+03 3.00e+00 1.00e+00 6.20e+01]\n",
      " [8.16e+02 2.00e+00 1.00e+00 3.90e+01]\n",
      " [1.04e+03 3.00e+00 1.00e+00 2.50e+01]\n",
      " [1.39e+03 3.00e+00 1.00e+00 6.40e+01]\n",
      " [1.60e+03 3.00e+00 2.00e+00 2.90e+01]\n",
      " [1.22e+03 3.00e+00 1.00e+00 6.30e+01]\n",
      " [1.07e+03 2.00e+00 1.00e+00 1.00e+02]\n",
      " [2.60e+03 4.00e+00 2.00e+00 2.20e+01]\n",
      " [1.43e+03 3.00e+00 1.00e+00 5.90e+01]\n",
      " [2.09e+03 3.00e+00 2.00e+00 2.60e+01]\n",
      " [1.79e+03 4.00e+00 2.00e+00 4.90e+01]\n",
      " [1.48e+03 3.00e+00 2.00e+00 1.60e+01]\n",
      " [1.04e+03 3.00e+00 1.00e+00 2.50e+01]\n",
      " [1.43e+03 3.00e+00 1.00e+00 2.20e+01]\n",
      " [1.16e+03 3.00e+00 1.00e+00 5.30e+01]\n",
      " [1.55e+03 3.00e+00 2.00e+00 1.20e+01]\n",
      " [1.98e+03 3.00e+00 2.00e+00 2.20e+01]\n",
      " [1.06e+03 3.00e+00 1.00e+00 5.30e+01]\n",
      " [1.18e+03 2.00e+00 1.00e+00 9.90e+01]\n",
      " [1.36e+03 2.00e+00 1.00e+00 1.70e+01]\n",
      " [9.60e+02 3.00e+00 1.00e+00 5.10e+01]\n",
      " [1.46e+03 3.00e+00 2.00e+00 1.60e+01]\n",
      " [1.45e+03 3.00e+00 2.00e+00 2.50e+01]\n",
      " [1.21e+03 2.00e+00 1.00e+00 1.50e+01]\n",
      " [1.55e+03 3.00e+00 2.00e+00 1.60e+01]\n",
      " [8.82e+02 3.00e+00 1.00e+00 4.90e+01]\n",
      " [2.03e+03 4.00e+00 2.00e+00 4.50e+01]\n",
      " [1.04e+03 3.00e+00 1.00e+00 6.20e+01]\n",
      " [1.62e+03 3.00e+00 1.00e+00 1.60e+01]\n",
      " [8.03e+02 2.00e+00 1.00e+00 8.00e+01]\n",
      " [1.43e+03 3.00e+00 2.00e+00 2.10e+01]\n",
      " [1.66e+03 3.00e+00 1.00e+00 6.10e+01]\n",
      " [1.54e+03 3.00e+00 1.00e+00 1.60e+01]\n",
      " [9.48e+02 3.00e+00 1.00e+00 5.30e+01]\n",
      " [1.22e+03 2.00e+00 2.00e+00 1.20e+01]\n",
      " [1.43e+03 2.00e+00 1.00e+00 4.30e+01]\n",
      " [1.66e+03 3.00e+00 2.00e+00 1.90e+01]\n",
      " [1.21e+03 3.00e+00 1.00e+00 2.00e+01]\n",
      " [1.05e+03 2.00e+00 1.00e+00 6.50e+01]]\n",
      "y Shape: (99,), y Type:<class 'numpy.ndarray'>)\n",
      "[300.   509.8  394.   540.   415.   230.   560.   294.   718.2  200.\n",
      " 302.   468.   374.2  388.   282.   311.8  401.   449.8  301.   502.\n",
      " 340.   400.28 572.   264.   304.   298.   219.8  490.7  216.96 368.2\n",
      " 280.   526.87 237.   562.43 369.8  460.   374.   390.   158.   426.\n",
      " 390.   277.77 216.96 425.8  504.   329.   464.   220.   358.   478.\n",
      " 334.   426.98 290.   463.   390.8  354.   350.   460.   237.   288.3\n",
      " 282.   249.   304.   332.   351.8  310.   216.96 666.34 330.   480.\n",
      " 330.3  348.   304.   384.   316.   430.4  450.   284.   275.   414.\n",
      " 258.   378.   350.   412.   373.   225.   390.   267.4  464.   174.\n",
      " 340.   430.   440.   216.   329.   388.   390.   356.   257.8 ]\n"
     ]
    }
   ],
   "source": [
    "print(f\"X Shape: {X_train.shape}, X Type:{type(X_train)})\")\n",
    "print(X_train)\n",
    "print(f\"y Shape: {y_train.shape}, y Type:{type(y_train)})\")\n",
    "print(y_train)"
   ]
  },
  {
   "cell_type": "code",
   "execution_count": 6,
   "metadata": {},
   "outputs": [],
   "source": [
    "X_features = ['size(sqft)','bedrooms','floors','age']"
   ]
  },
  {
   "cell_type": "code",
   "execution_count": 7,
   "metadata": {},
   "outputs": [
    {
     "data": {
      "image/png": "[encoded data removed]",
      "text/plain": [
       "<Figure size 1200x300 with 4 Axes>"
      ]
     },
     "metadata": {},
     "output_type": "display_data"
    }
   ],
   "source": [
    "fig,ax=plt.subplots(1, 4, figsize=(12, 3), sharey=True)\n",
    "for i in range(len(ax)):\n",
    "    ax[i].scatter(X_train[:,i],y_train)\n",
    "    ax[i].set_xlabel(X_features[i])\n",
    "ax[0].set_ylabel(\"Price (1000's)\")\n",
    "plt.show()"
   ]
  },
  {
   "cell_type": "code",
   "execution_count": 8,
   "metadata": {},
   "outputs": [],
   "source": [
    "def zscore_normalize_features(X):\n",
    "    # find the mean of each column/feature\n",
    "    mu     = np.mean(X, axis=0)                 # mu will have shape (n,)\n",
    "    # find the standard deviation of each column/feature\n",
    "    sigma  = np.std(X, axis=0)                  # sigma will have shape (n,)\n",
    "    # element-wise, subtract mu for that column from each example, divide by std for that column\n",
    "    X_norm = (X - mu) / sigma      \n",
    "\n",
    "    return (X_norm, mu, sigma)"
   ]
  },
  {
   "cell_type": "code",
   "execution_count": 9,
   "metadata": {},
   "outputs": [
    {
     "name": "stdout",
     "output_type": "stream",
     "text": [
      "X_mu = [1.42e+03 2.72e+00 1.38e+00 3.84e+01], \n",
      "X_sigma = [411.4    0.65   0.49  25.78]\n",
      "Peak to Peak range by column in Raw        X:[2.4e+03 4.0e+00 1.0e+00 9.5e+01]\n",
      "Peak to Peak range by column in Normalized X:[5.84 6.14 2.06 3.69]\n"
     ]
    }
   ],
   "source": [
    "# normalize the original features\n",
    "X_norm, X_mu, X_sigma = zscore_normalize_features(X_train)\n",
    "print(f\"X_mu = {X_mu}, \\nX_sigma = {X_sigma}\")\n",
    "print(f\"Peak to Peak range by column in Raw        X:{np.ptp(X_train,axis=0)}\")   \n",
    "print(f\"Peak to Peak range by column in Normalized X:{np.ptp(X_norm,axis=0)}\")"
   ]
  },
  {
   "cell_type": "code",
   "execution_count": 10,
   "metadata": {},
   "outputs": [
    {
     "name": "stdout",
     "output_type": "stream",
     "text": [
      "w_init shape: (4,), b_init type: <class 'int'>\n"
     ]
    }
   ],
   "source": [
    "b_init = 0\n",
    "w_init = np.array([ 0, 0, 0, 0])\n",
    "print(f\"w_init shape: {w_init.shape}, b_init type: {type(b_init)}\")"
   ]
  },
  {
   "cell_type": "code",
   "execution_count": 11,
   "metadata": {},
   "outputs": [],
   "source": [
    "def predict(x, w, b): \n",
    "    p = np.dot(x, w) + b     \n",
    "    return p  "
   ]
  },
  {
   "cell_type": "code",
   "execution_count": 12,
   "metadata": {},
   "outputs": [],
   "source": [
    "def compute_cost(X, y, w, b): \n",
    "    m = X.shape[0]\n",
    "    cost = 0.0\n",
    "    for i in range(m):                                \n",
    "        f_wb_i = np.dot(X[i], w) + b           #(n,)(n,) = scalar (see np.dot)\n",
    "        cost = cost + (f_wb_i - y[i])**2       #scalar\n",
    "    cost = cost / (2 * m)                      #scalar    \n",
    "    return cost"
   ]
  },
  {
   "cell_type": "code",
   "execution_count": 13,
   "metadata": {},
   "outputs": [
    {
     "data": {
      "text/plain": [
       "\"cost = compute_cost(X_train, y_train, w_init, b_init)\\nprint(f'Cost at optimal w : {cost}')\""
      ]
     },
     "execution_count": 13,
     "metadata": {},
     "output_type": "execute_result"
    }
   ],
   "source": [
    "'''cost = compute_cost(X_train, y_train, w_init, b_init)\n",
    "print(f'Cost at optimal w : {cost}')'''"
   ]
  },
  {
   "cell_type": "code",
   "execution_count": 14,
   "metadata": {},
   "outputs": [],
   "source": [
    "def compute_gradient(X, y, w, b): \n",
    "    m,n = X.shape           #(number of examples, number of features)\n",
    "    dj_dw = np.zeros((n,))\n",
    "    dj_db = 0.\n",
    "\n",
    "    for i in range(m):                             \n",
    "        err = (np.dot(X[i], w) + b) - y[i]   \n",
    "        for j in range(n):                         \n",
    "            dj_dw[j] = dj_dw[j] + err * X[i, j]    \n",
    "        dj_db = dj_db + err                        \n",
    "    dj_dw = dj_dw / m                                \n",
    "    dj_db = dj_db / m                                \n",
    "        \n",
    "    return dj_db, dj_dw"
   ]
  },
  {
   "cell_type": "code",
   "execution_count": 15,
   "metadata": {},
   "outputs": [
    {
     "data": {
      "text/plain": [
       "'X=X_train\\ny=y_train\\nw=w_init\\nb=b_init\\nm,n = X.shape          \\ndj_dw = np.zeros((n,))\\ndj_db = 0.\\n\\nfor i in range(m):                             \\n    err = (np.dot(X[i], w) + b) - y[i]   \\n    print(\"Error for\",i+1,err)\\n    for j in range(n):                         \\n        dj_dw[j] = dj_dw[j] + err * X[i, j]  \\n    print(\"dj_dw\",dj_dw)  \\n    dj_db = dj_db + err  \\n    print(\"dj_db\",dj_db)  \\n    \\ndj_dw = dj_dw / m                                \\ndj_db = dj_db / m '"
      ]
     },
     "execution_count": 15,
     "metadata": {},
     "output_type": "execute_result"
    }
   ],
   "source": [
    "'''X=X_train\n",
    "y=y_train\n",
    "w=w_init\n",
    "b=b_init\n",
    "m,n = X.shape          \n",
    "dj_dw = np.zeros((n,))\n",
    "dj_db = 0.\n",
    "\n",
    "for i in range(m):                             \n",
    "    err = (np.dot(X[i], w) + b) - y[i]   \n",
    "    print(\"Error for\",i+1,err)\n",
    "    for j in range(n):                         \n",
    "        dj_dw[j] = dj_dw[j] + err * X[i, j]  \n",
    "    print(\"dj_dw\",dj_dw)  \n",
    "    dj_db = dj_db + err  \n",
    "    print(\"dj_db\",dj_db)  \n",
    "    \n",
    "dj_dw = dj_dw / m                                \n",
    "dj_db = dj_db / m '''                       "
   ]
  },
  {
   "cell_type": "code",
   "execution_count": 16,
   "metadata": {},
   "outputs": [
    {
     "data": {
      "text/plain": [
       "\"tmp_dj_db, tmp_dj_dw = compute_gradient(X_train, y_train, w_init, b_init)\\nprint(f'dj_db at initial w,b: {tmp_dj_db}')\\nprint(f'dj_dw at initial w,b: \\n {tmp_dj_dw}')\""
      ]
     },
     "execution_count": 16,
     "metadata": {},
     "output_type": "execute_result"
    }
   ],
   "source": [
    "'''tmp_dj_db, tmp_dj_dw = compute_gradient(X_train, y_train, w_init, b_init)\n",
    "print(f'dj_db at initial w,b: {tmp_dj_db}')\n",
    "print(f'dj_dw at initial w,b: \\n {tmp_dj_dw}')'''"
   ]
  },
  {
   "cell_type": "code",
   "execution_count": 17,
   "metadata": {},
   "outputs": [],
   "source": [
    "def gradient_descent(X, y, w_in, b_in, cost_function, gradient_function, alpha, num_iters): \n",
    "\n",
    "    # An array to store cost J and w's at each iteration primarily for graphing later\n",
    "    J_history = []\n",
    "    w = copy.deepcopy(w_in)  #avoid modifying global w within function\n",
    "    b = b_in\n",
    "    \n",
    "    for i in range(num_iters):\n",
    "\n",
    "        # Calculate the gradient and update the parameters\n",
    "        dj_db,dj_dw = gradient_function(X, y, w, b)   ##None\n",
    "\n",
    "        # Update Parameters using w, b, alpha and gradient\n",
    "        w = w - alpha * dj_dw               ##None\n",
    "        b = b - alpha * dj_db               ##None\n",
    "      \n",
    "        # Save cost J at each iteration\n",
    "        if i<100000:      # prevent resource exhaustion \n",
    "            J_history.append( cost_function(X, y, w, b))\n",
    "\n",
    "        # Print cost every at intervals 10 times or as many iterations if < 10\n",
    "        if i% math.ceil(num_iters / 10) == 0:\n",
    "            print(f\"Iteration {i:4d}: Cost {J_history[-1]:8.2f}   \")\n",
    "        \n",
    "    return w, b, J_history #return final w,b and J history for graphing"
   ]
  },
  {
   "cell_type": "code",
   "execution_count": 27,
   "metadata": {},
   "outputs": [
    {
     "name": "stdout",
     "output_type": "stream",
     "text": [
      "Iteration    0: Cost 71338.78   \n",
      "Iteration 1000: Cost 46662.38   \n",
      "Iteration 2000: Cost 30714.35   \n",
      "Iteration 3000: Cost 20407.34   \n",
      "Iteration 4000: Cost 13746.06   \n",
      "Iteration 5000: Cost  9440.94   \n",
      "Iteration 6000: Cost  6658.59   \n",
      "Iteration 7000: Cost  4860.39   \n",
      "Iteration 8000: Cost  3698.21   \n",
      "Iteration 9000: Cost  2947.10   \n",
      "b,w found by gradient descent: 0.00,[2.24e-01 4.05e-04 2.06e-04 4.64e-03] \n",
      "prediction: 278.49, target value: 300.0\n",
      "prediction: 437.55, target value: 509.8\n",
      "prediction: 386.07, target value: 394.0\n",
      "prediction: 439.79, target value: 540.0\n",
      "prediction: 293.96, target value: 415.0\n",
      "prediction: 194.14, target value: 230.0\n",
      "prediction: 412.88, target value: 560.0\n",
      "prediction: 231.28, target value: 294.0\n",
      "prediction: 716.07, target value: 718.2\n",
      "prediction: 177.16, target value: 200.0\n",
      "prediction: 269.29, target value: 302.0\n",
      "prediction: 350.06, target value: 468.0\n",
      "prediction: 320.91, target value: 374.2\n",
      "prediction: 273.77, target value: 388.0\n",
      "prediction: 244.83, target value: 282.0\n",
      "prediction: 190.32, target value: 311.8\n",
      "prediction: 377.01, target value: 401.0\n",
      "prediction: 397.18, target value: 449.8\n",
      "prediction: 233.53, target value: 301.0\n",
      "prediction: 370.27, target value: 502.0\n",
      "prediction: 244.70, target value: 340.0\n",
      "prediction: 296.20, target value: 400.28\n",
      "prediction: 356.80, target value: 572.0\n",
      "prediction: 218.40, target value: 264.0\n",
      "prediction: 246.95, target value: 304.0\n",
      "prediction: 224.58, target value: 298.0\n",
      "prediction: 203.07, target value: 219.8\n",
      "prediction: 379.21, target value: 490.7\n",
      "prediction: 240.52, target value: 216.96\n",
      "prediction: 318.66, target value: 368.2\n",
      "prediction: 260.48, target value: 280.0\n",
      "prediction: 435.29, target value: 526.87\n",
      "prediction: 274.05, target value: 237.0\n",
      "prediction: 556.45, target value: 562.43\n",
      "prediction: 269.30, target value: 369.8\n",
      "prediction: 412.89, target value: 460.0\n",
      "prediction: 415.31, target value: 374.0\n",
      "prediction: 372.50, target value: 390.0\n",
      "prediction: 247.23, target value: 158.0\n",
      "prediction: 399.47, target value: 426.0\n",
      "prediction: 455.63, target value: 390.0\n",
      "prediction: 399.83, target value: 277.77\n",
      "prediction: 240.52, target value: 216.96\n",
      "prediction: 347.81, target value: 425.8\n",
      "prediction: 437.55, target value: 504.0\n",
      "prediction: 273.76, target value: 329.0\n",
      "prediction: 363.52, target value: 464.0\n",
      "prediction: 183.34, target value: 220.0\n",
      "prediction: 302.97, target value: 358.0\n",
      "prediction: 352.29, target value: 478.0\n",
      "prediction: 334.54, target value: 334.0\n",
      "prediction: 338.84, target value: 426.98\n",
      "prediction: 246.91, target value: 290.0\n",
      "prediction: 394.96, target value: 463.0\n",
      "prediction: 271.52, target value: 390.8\n",
      "prediction: 329.90, target value: 354.0\n",
      "prediction: 397.48, target value: 350.0\n",
      "prediction: 370.26, target value: 460.0\n",
      "prediction: 231.36, target value: 237.0\n",
      "prediction: 251.34, target value: 288.3\n",
      "prediction: 258.29, target value: 282.0\n",
      "prediction: 183.25, target value: 249.0\n",
      "prediction: 233.44, target value: 304.0\n",
      "prediction: 312.14, target value: 332.0\n",
      "prediction: 359.09, target value: 351.8\n",
      "prediction: 274.00, target value: 310.0\n",
      "prediction: 240.52, target value: 216.96\n",
      "prediction: 583.40, target value: 666.34\n",
      "prediction: 321.09, target value: 330.0\n",
      "prediction: 469.00, target value: 480.0\n",
      "prediction: 401.81, target value: 330.3\n",
      "prediction: 332.11, target value: 348.0\n",
      "prediction: 233.44, target value: 304.0\n",
      "prediction: 320.92, target value: 384.0\n",
      "prediction: 260.49, target value: 316.0\n",
      "prediction: 347.79, target value: 430.4\n",
      "prediction: 444.31, target value: 450.0\n",
      "prediction: 238.05, target value: 284.0\n",
      "prediction: 265.19, target value: 275.0\n",
      "prediction: 305.19, target value: 414.0\n",
      "prediction: 215.61, target value: 258.0\n",
      "prediction: 327.62, target value: 378.0\n",
      "prediction: 325.42, target value: 350.0\n",
      "prediction: 271.53, target value: 412.0\n",
      "prediction: 347.81, target value: 373.0\n",
      "prediction: 198.10, target value: 225.0\n",
      "prediction: 455.63, target value: 390.0\n",
      "prediction: 233.61, target value: 267.4\n",
      "prediction: 363.52, target value: 464.0\n",
      "prediction: 180.52, target value: 174.0\n",
      "prediction: 320.91, target value: 340.0\n",
      "prediction: 372.70, target value: 430.0\n",
      "prediction: 345.57, target value: 440.0\n",
      "prediction: 212.93, target value: 216.0\n",
      "prediction: 273.76, target value: 329.0\n",
      "prediction: 321.01, target value: 388.0\n",
      "prediction: 372.50, target value: 390.0\n",
      "prediction: 271.55, target value: 356.0\n",
      "prediction: 235.87, target value: 257.8\n"
     ]
    }
   ],
   "source": [
    "# initialize parameters\n",
    "initial_w = np.zeros_like(w_init)\n",
    "initial_b = 0.\n",
    "# some gradient descent settings\n",
    "iterations = 10000\n",
    "alpha = 0.0000000001\n",
    "# run gradient descent \n",
    "w_final, b_final, J_hist = gradient_descent(X_train, y_train, initial_w, initial_b,\n",
    "                                                    compute_cost, compute_gradient, \n",
    "                                                    alpha, iterations)\n",
    "print(f\"b,w found by gradient descent: {b_final:0.2f},{w_final} \")\n",
    "\n",
    "#add code for normalization here\n",
    "m,_ = X_train.shape\n",
    "for i in range(m):\n",
    "    print(f\"prediction: {np.dot(X_train[i], w_final) + b_final:0.2f}, target value: {y_train[i]}\")"
   ]
  },
  {
   "cell_type": "code",
   "execution_count": 24,
   "metadata": {},
   "outputs": [
    {
     "data": {
      "image/png": "[encoded data removed]",
      "text/plain": [
       "<Figure size 1200x400 with 2 Axes>"
      ]
     },
     "metadata": {},
     "output_type": "display_data"
    }
   ],
   "source": [
    "# plot cost versus iteration  \n",
    "fig, (ax1, ax2) = plt.subplots(1, 2, constrained_layout=True, figsize=(12, 4))\n",
    "ax1.plot(J_hist)\n",
    "ax2.plot(100 + np.arange(len(J_hist[100:])), J_hist[100:])\n",
    "ax1.set_title(\"Cost vs. iteration\");  ax2.set_title(\"Cost vs. iteration (tail)\")\n",
    "ax1.set_ylabel('Cost')             ;  ax2.set_ylabel('Cost') \n",
    "ax1.set_xlabel('iteration step')   ;  ax2.set_xlabel('iteration step') \n",
    "plt.show()"
   ]
  },
  {
   "cell_type": "code",
   "execution_count": null,
   "metadata": {},
   "outputs": [],
   "source": []
  }
 ],
 "metadata": {
  "kernelspec": {
   "display_name": "Python 3",
   "language": "python",
   "name": "python3"
  },
  "language_info": {
   "codemirror_mode": {
    "name": "ipython",
    "version": 3
   },
   "file_extension": ".py",
   "mimetype": "text/x-python",
   "name": "python",
   "nbconvert_exporter": "python",
   "pygments_lexer": "ipython3",
   "version": "3.12.2"
  }
 },
 "nbformat": 4,
 "nbformat_minor": 2
}
